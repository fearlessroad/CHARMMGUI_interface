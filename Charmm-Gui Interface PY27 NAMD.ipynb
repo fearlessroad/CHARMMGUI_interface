{
 "cells": [
  {
   "cell_type": "code",
   "execution_count": 1,
   "metadata": {
    "collapsed": true
   },
   "outputs": [],
   "source": [
    "from selenium import webdriver\n",
    "from selenium.webdriver.common.keys import Keys\n",
    "from selenium.webdriver.common.by import By\n",
    "from selenium.webdriver.support.ui import WebDriverWait\n",
    "from selenium.webdriver.support import expected_conditions as EC\n",
    "from selenium.webdriver.support.ui import Select\n",
    "#import requests\n",
    "import urllib\n",
    "from datetime import datetime\n",
    "from noticeEmail import noticeEMail\n",
    "from selenium.common.exceptions import TimeoutException\n",
    "import MDAnalysis as mda\n",
    "import os\n",
    "import errno\n",
    "import numpy as np\n",
    "starttime = datetime.now()\n"
   ]
  },
  {
   "cell_type": "code",
   "execution_count": 2,
   "metadata": {
    "collapsed": true
   },
   "outputs": [],
   "source": [
    "#variables to change\n",
    "#['name', 'upper leaflet ratio', 'lower leaflet ratio', 'surface area']\n",
    "waterHeight = \"35\"\n",
    "xYLength = \"90\"\n",
    "SA = '20'\n",
    "fattyAcids = [\n",
    "    #['pal', 4, 4, 19],\n",
    "    ['palp', \"4\", \"4\", SA],\n",
    "    ['laup', \"1\", \"1\", SA],\n",
    "    #['lau', 1, 1, \"19\"]\n",
    "    #['ste', 0, 0, 0],\n",
    "    ['step', \"3\", \"3\", SA],\n",
    "    #['myr', 0, 0, 0],\n",
    "    ['myrp', \"2\", \"2\", SA]\n",
    "]\n",
    "saltConc = '0.4'\n",
    "saltName = 'NaCl'\n",
    "temperature = '298.15'\n",
    "#these must be correct AND they must exist or script won't work!\n",
    "fileDirectory = '/gpfs/amarolab/monolayers/Boxes/MIX1_NaCl0.4/SA'+SA+'/'\n",
    "saveFile = fileDirectory+'charmm-gui.tgz'\n",
    "runFile = fileDirectory+'charmm-gui/namd/run.sh'\n",
    "#simulator = 'gmx_checked'\n",
    "#SIMULATOR OPTIONS\n",
    "#amber = 'amb_checked'\n",
    "simulator = 'namd_checked'\n",
    "#gromacs = 'gmx_checked'\n",
    "#must be gmail\n",
    "email = 'acdommer@gmail.com'"
   ]
  },
  {
   "cell_type": "code",
   "execution_count": 3,
   "metadata": {
    "collapsed": true
   },
   "outputs": [],
   "source": [
    "def make_sure_path_exists(path):\n",
    "    try:\n",
    "        os.makedirs(path)\n",
    "    except OSError as exception:\n",
    "        if exception.errno != errno.EEXIST:\n",
    "            raise\n",
    "make_sure_path_exists(fileDirectory)"
   ]
  },
  {
   "cell_type": "code",
   "execution_count": 4,
   "metadata": {
    "collapsed": true
   },
   "outputs": [],
   "source": [
    "try:    \n",
    "    starttime = datetime.now()\n",
    "    webpage = \"http://charmm-gui.org/?doc=input/monolayer_only&step=1\"\n",
    "    driver = webdriver.PhantomJS('phantomjs-2.1.1-linux-x86_64/bin/phantomjs')\n",
    "    driver.get(webpage)\n",
    "    wait10 = WebDriverWait(driver, 10)\n",
    "    wait600 = WebDriverWait(driver, 1000)\n",
    "    water_thickness = driver.find_element_by_name(\"hetero_wdist\")\n",
    "    water_thickness.clear()\n",
    "    water_thickness.send_keys(waterHeight)\n",
    "    XY_length = driver.find_element_by_name(\"hetero_lx\")\n",
    "    XY_length.send_keys(xYLength)\n",
    "    #click on triangles\n",
    "    for i in range(1,14):\n",
    "        driver.find_element(By.XPATH, '//img[@src=\"/images/basic/tri.png\"]').click()\n",
    "    #setting up an array of input Variables\n",
    "    #[fatty acid name accepted by charmmgui, upper ratio, lower ratio, surface area per lipid]\n",
    "\n",
    "    for i in fattyAcids:\n",
    "        driver.find_element_by_name(\"lipid_ratio[upper][\"+i[0]+\"]\").clear()\n",
    "        driver.find_element_by_name(\"lipid_ratio[lower][\"+i[0]+\"]\").clear()\n",
    "        driver.find_element_by_name(\"lipid_ratio[area][\"+i[0]+\"]\").clear()\n",
    "        driver.find_element_by_name(\"lipid_ratio[upper][\"+i[0]+\"]\").send_keys(i[1]) #upper\n",
    "        driver.find_element_by_name(\"lipid_ratio[lower][\"+i[0]+\"]\").send_keys(i[2]) #lower\n",
    "        driver.find_element_by_name(\"lipid_ratio[area][\"+i[0]+\"]\").send_keys(i[3]) #surface area\n",
    "    #click show system info button\n",
    "    driver.find_element_by_id('hetero_size_button').click()\n",
    "    hetero_box = driver.find_element_by_id('hetero_size')\n",
    "    wait10.until(EC.text_to_be_present_in_element((By.ID, 'hetero_size'), 'Calculated Number of Lipids'))\n",
    "    driver.save_screenshot('screenie.png')\n",
    "    #next page\n",
    "    driver.find_element_by_id('nextBtn').click()\n",
    "    #wait until page loads\n",
    "    #after ten minutes, time out\n",
    "    wait600.until(EC.url_contains('step=2'))\n",
    "    #fill in salt concentration\n",
    "    driver.find_element_by_id('ion_conc').clear()\n",
    "    driver.find_element_by_id('ion_conc').send_keys(saltConc)\n",
    "    salt_name = Select(driver.find_element_by_id('ion_type'))\n",
    "    salt_name.select_by_visible_text(saltName)\n",
    "    calculate_ions = driver.find_element_by_xpath('//input[@value=\"Calculate number of ions\"]')\n",
    "    calculate_ions.click()\n",
    "    if saltConc == '0.0':\n",
    "        driver.find_element_by_xpath('//input[@name=\"ion_checked\"]').click()\n",
    "    driver.find_element_by_id(\"nextBtn\").click()\n",
    "    #wait until page loads\n",
    "    wait600.until(EC.url_contains('step=3'))\n",
    "    driver.find_element_by_id(\"nextBtn\").click()\n",
    "    wait600.until(EC.text_to_be_present_in_element((By.ID, \"fmonolayer_only\"), \"Assemble Generated Components\"))\n",
    "    driver.find_element_by_id(\"nextBtn\").click()\n",
    "    wait600.until(EC.url_contains('step=4'))\n",
    "    driver.find_element_by_name(simulator).click()\n",
    "    driver.find_element_by_name('temperature').clear()\n",
    "    driver.find_element_by_name('temperature').send_keys(temperature)\n",
    "    driver.find_element_by_id('nextBtn').click()\n",
    "    wait600.until(EC.url_contains('step=5'))\n",
    "    download_link_element = driver.find_element_by_css_selector('div#membrane_component a.download')\n",
    "    #driver.save_screenshot('screenie.png')\n",
    "    download_link = download_link_element.get_attribute('href')\n",
    "    #print(download_link.get_attribute('href'))\n",
    "    urllib.urlretrieve(download_link, saveFile)\n",
    "except TimeoutException:\n",
    "    runtime = datetime.now() - starttime\n",
    "    subject = \"CharmmGUI Error Notice (saddddd)\"\n",
    "    msg = \"Mr. poopy butthole says your file \"+fileDirectory+\" has timed out in\"+str(runtime)+\"! You should probably go fix that\"\n",
    "    noticeEMail(starttime, email, msg, subject)"
   ]
  },
  {
   "cell_type": "code",
   "execution_count": 5,
   "metadata": {},
   "outputs": [
    {
     "name": "stdout",
     "output_type": "stream",
     "text": [
      "charmm-gui/checkfft.py\n",
      "charmm-gui/convert_par2namd.py\n",
      "charmm-gui/crystal_image.str\n",
      "charmm-gui/lipid_lib.tar.gz\n",
      "charmm-gui/membrane_lipid_restraint.namd.str\n",
      "charmm-gui/membrane_lipid_restraint.str\n",
      "charmm-gui/membrane_lipid_restraint2.namd.str\n",
      "charmm-gui/membrane_lipid_restraint2.str\n",
      "charmm-gui/step3_nlipids_lower.prm\n",
      "charmm-gui/step3_nlipids_upper.prm\n",
      "charmm-gui/step3_packing.inp\n",
      "charmm-gui/step3_packing.out\n",
      "charmm-gui/step3_packing.pdb\n",
      "charmm-gui/step3_packing_head.crd\n",
      "charmm-gui/step3_packing_head.pdb\n",
      "charmm-gui/step3_packing_head.psf\n",
      "charmm-gui/step3_packing_pol.str\n",
      "charmm-gui/step3_size.inp\n",
      "charmm-gui/step3_size.out\n",
      "charmm-gui/step3_size.str\n",
      "charmm-gui/step4.2_waterbox.crd\n",
      "charmm-gui/step4.2_waterbox.inp\n",
      "charmm-gui/step4.2_waterbox.out\n",
      "charmm-gui/step4_components.str\n",
      "charmm-gui/step4_lipid.crd\n",
      "charmm-gui/step4_lipid.inp\n",
      "charmm-gui/step4_lipid.out\n",
      "charmm-gui/step4_lipid.pdb\n",
      "charmm-gui/step4_lipid.psf\n",
      "charmm-gui/step4_lipid_lipid.crd\n",
      "charmm-gui/step5_assembly.crd\n",
      "charmm-gui/step5_assembly.inp\n",
      "charmm-gui/step5_assembly.namd.crd\n",
      "charmm-gui/step5_assembly.namd.pdb\n",
      "charmm-gui/step5_assembly.oldpsf\n",
      "charmm-gui/step5_assembly.out\n",
      "charmm-gui/step5_assembly.pdb\n",
      "charmm-gui/step5_assembly.psf\n",
      "charmm-gui/step5_assembly.str\n",
      "charmm-gui/step5_assembly.xplor.psf\n",
      "charmm-gui/step5_assembly.xplor_ext.psf\n",
      "charmm-gui/step5_input.inp\n",
      "charmm-gui/step5_input.out\n",
      "charmm-gui/step5_input_minimization.str\n",
      "charmm-gui/step6.1_equilibration.inp\n",
      "charmm-gui/step6.2_equilibration.inp\n",
      "charmm-gui/step6.3_equilibration.inp\n",
      "charmm-gui/step6.4_equilibration.inp\n",
      "charmm-gui/step6.5_equilibration.inp\n",
      "charmm-gui/step6.6_equilibration.inp\n",
      "charmm-gui/step7_production.inp\n",
      "charmm-gui/toppar.str\n",
      "charmm-gui/water_tmp.crd\n",
      "charmm-gui/namd\n",
      "charmm-gui/namd/step6.3_equilibration.inp\n",
      "charmm-gui/namd/step6.4_equilibration.inp\n",
      "charmm-gui/namd/step6.1_equilibration.inp\n",
      "charmm-gui/namd/restraints\n",
      "charmm-gui/namd/restraints/laup_head_upper.ref\n",
      "charmm-gui/namd/restraints/laup_head_lower.ref\n",
      "charmm-gui/namd/restraints/palp_head_lower.ref\n",
      "charmm-gui/namd/restraints/myrp_head_lower.ref\n",
      "charmm-gui/namd/restraints/palp_head_upper.ref\n",
      "charmm-gui/namd/restraints/myrp_head_upper.ref\n",
      "charmm-gui/namd/restraints/step_head_upper.ref\n",
      "charmm-gui/namd/restraints/dihe.txt\n",
      "charmm-gui/namd/restraints/step_head_lower.ref\n",
      "charmm-gui/namd/step6.2_equilibration.inp\n",
      "charmm-gui/namd/step6.6_equilibration.inp\n",
      "charmm-gui/namd/membrane_lipid_restraint.namd.col\n",
      "charmm-gui/namd/step7.1_production.inp\n",
      "charmm-gui/namd/step6.5_equilibration.inp\n",
      "charmm-gui/namd/toppar\n",
      "charmm-gui/namd/toppar/toppar_all36_na_nad_ppi.str\n",
      "charmm-gui/namd/toppar/toppar_all36_lipid_cholesterol.str\n",
      "charmm-gui/namd/toppar/par_all36_na.prm\n",
      "charmm-gui/namd/toppar/toppar_all36_lipid_model.str\n",
      "charmm-gui/namd/toppar/toppar_all36_lipid_prot.str\n",
      "charmm-gui/namd/toppar/par_all36_lipid.prm\n",
      "charmm-gui/namd/toppar/toppar_all36_lipid_hmmm.str\n",
      "charmm-gui/namd/toppar/toppar_all36_lipid_miscellaneous.str\n",
      "charmm-gui/namd/toppar/toppar_all36_lipid_pyrophosphate.str\n",
      "charmm-gui/namd/toppar/toppar_all36_carb_glycopeptide.str\n",
      "charmm-gui/namd/toppar/toppar_all36_lipid_lps.str\n",
      "charmm-gui/namd/toppar/toppar_all36_lipid_cardiolipin.str\n",
      "charmm-gui/namd/toppar/toppar_all36_carb_glycolipid.str\n",
      "charmm-gui/namd/toppar/toppar_all36_prot_fluoro_alkanes.str\n",
      "charmm-gui/namd/toppar/toppar_all36_lipid_inositol.str\n",
      "charmm-gui/namd/toppar/toppar_all36_carb_imlab.str\n",
      "charmm-gui/namd/toppar/par_all36_cgenff.prm\n",
      "charmm-gui/namd/toppar/par_all36m_prot.prm\n",
      "charmm-gui/namd/toppar/toppar_all36_prot_na_combined.str\n",
      "charmm-gui/namd/toppar/toppar_all36_lipid_detergent.str\n",
      "charmm-gui/namd/toppar/toppar_all36_lipid_sphingo.str\n",
      "charmm-gui/namd/toppar/toppar_dum_noble_gases.str\n",
      "charmm-gui/namd/toppar/toppar_all36_prot_heme.str\n",
      "charmm-gui/namd/toppar/par_all36_carb.prm\n",
      "charmm-gui/namd/toppar/toppar_all36_lipid_yeast.str\n",
      "charmm-gui/namd/toppar/toppar_all36_prot_retinol.str\n",
      "charmm-gui/namd/toppar/toppar_water_ions.str\n",
      "charmm-gui/namd/toppar/toppar_all36_na_rna_modified.str\n",
      "charmm-gui/namd/toppar/toppar_all36_lipid_bacterial.str\n",
      "charmm-gui/namd/toppar/toppar_all36_prot_d_aminoacids.str\n",
      "charmm-gui/toppar\n",
      "charmm-gui/toppar/toppar_all36_na_nad_ppi.str\n",
      "charmm-gui/toppar/toppar_all36_lipid_cholesterol.str\n",
      "charmm-gui/toppar/par_all36_na.prm\n",
      "charmm-gui/toppar/toppar_all36_lipid_model.str\n",
      "charmm-gui/toppar/toppar_all36_lipid_prot.str\n",
      "charmm-gui/toppar/par_all36_lipid.prm\n",
      "charmm-gui/toppar/toppar_all36_lipid_hmmm.str\n",
      "charmm-gui/toppar/toppar_all36_lipid_miscellaneous.str\n",
      "charmm-gui/toppar/toppar_all36_lipid_pyrophosphate.str\n",
      "charmm-gui/toppar/toppar_all36_carb_glycopeptide.str\n",
      "charmm-gui/toppar/top_all36_prot.rtf\n",
      "charmm-gui/toppar/toppar_all36_lipid_lps.str\n",
      "charmm-gui/toppar/top_all36_lipid.rtf\n",
      "charmm-gui/toppar/tip216.crd\n",
      "charmm-gui/toppar/toppar_all36_lipid_cardiolipin.str\n",
      "charmm-gui/toppar/top_all36_cgenff.rtf\n",
      "charmm-gui/toppar/top_all36_carb.rtf\n",
      "charmm-gui/toppar/toppar_all36_carb_glycolipid.str\n",
      "charmm-gui/toppar/toppar_all36_prot_fluoro_alkanes.str\n",
      "charmm-gui/toppar/toppar_all36_lipid_inositol.str\n",
      "charmm-gui/toppar/toppar_all36_carb_imlab.str\n",
      "charmm-gui/toppar/par_all36_cgenff.prm\n",
      "charmm-gui/toppar/par_all36m_prot.prm\n",
      "charmm-gui/toppar/toppar_all36_prot_na_combined.str\n",
      "charmm-gui/toppar/toppar_all36_lipid_detergent.str\n",
      "charmm-gui/toppar/toppar_all36_lipid_sphingo.str\n",
      "charmm-gui/toppar/toppar_dum_noble_gases.str\n",
      "charmm-gui/toppar/top_all36_na.rtf\n",
      "charmm-gui/toppar/toppar_all36_prot_heme.str\n",
      "charmm-gui/toppar/par_all36_carb.prm\n",
      "charmm-gui/toppar/toppar_all36_lipid_yeast.str\n",
      "charmm-gui/toppar/toppar_all36_prot_retinol.str\n",
      "charmm-gui/toppar/toppar_water_ions.str\n",
      "charmm-gui/toppar/toppar_all36_na_rna_modified.str\n",
      "charmm-gui/toppar/toppar_all36_lipid_bacterial.str\n",
      "charmm-gui/toppar/toppar_all36_prot_d_aminoacids.str\n"
     ]
    }
   ],
   "source": [
    "with open('untar.sh', 'a') as file:\n",
    "    file.write('cd '+fileDirectory+'\\n')\n",
    "    file.write('tar zxvf charmm-gui.tgz\\n')\n",
    "! chmod 744 untar.sh\n",
    "! ./untar.sh\n",
    "! rm -rf untar.sh"
   ]
  },
  {
   "cell_type": "code",
   "execution_count": 6,
   "metadata": {
    "collapsed": true
   },
   "outputs": [],
   "source": [
    "driver.close()\n",
    "driver.quit()"
   ]
  },
  {
   "cell_type": "code",
   "execution_count": 7,
   "metadata": {
    "collapsed": true
   },
   "outputs": [],
   "source": [
    "with open(runFile, 'a') as file:\n",
    "    line = 22\n",
    "    for i in range(0,len(fattyAcids)):\n",
    "        linestr = str(line)\n",
    "        file.write('sed -i \"'+linestr+'s/.*centers.*/   centers '+waterHeight+'/\" membrane_lipid_restraint.namd.col\\n')\n",
    "        line += 20\n",
    "    for i in range(0, len(fattyAcids)):\n",
    "        linestr = str(line)\n",
    "        file.write('sed -i \"'+linestr+'s/.*centers.*/   centers -'+waterHeight+'/\" membrane_lipid_restraint.namd.col\\n')\n",
    "        line += 20\n",
    "    file.write('sed -i \"27 a outputPressure     1000;                # print pressure tensor every picosecond\" *1_equilibration.inp\\n')\n",
    "    file.write('sed -i \"25 a outputPressure     1000;                # print pressure tensor every picosecond\" *2_equilibration.inp\\n')\n",
    "    file.write('sed -i \"25 a outputPressure     1000;                # print pressure tensor every picosecond\" *3_equilibration.inp\\n')\n",
    "    file.write('sed -i \"25 a outputPressure     1000;                # print pressure tensor every picosecond\" *4_equilibration.inp\\n')\n",
    "    file.write('sed -i \"25 a outputPressure     1000;                # print pressure tensor every picosecond\" *5_equilibration.inp\\n')\n",
    "    file.write('sed -i \"25 a outputPressure     1000;                # print pressure tensor every picosecond\" *6_equilibration.inp\\n')\n",
    "    file.write('sed -i \"23 a outputPressure     1000;                # print pressure tensor every picosecond\" *_production.inp\\n')\n",
    "    file.write('sed -i \"s/restartfreq.*/restartfreq     1000;/\" *.inp\\n')\n",
    "    file.write('sed -i \"s/outputEnergies.*/outputEnergies     1000;/\" *.inp\\n')\n",
    "    file.write('sed -i \"s/useFlexibleCell.*/useFlexibleCell   no;/\" *.inp\\n')\n",
    "    file.write('sed -i \"s/useConstantRatio.*/useConstantRatio   no;/\" *.inp\\n')\n",
    "    file.write('sed -i \"s/langevinPiston .*/langevinPiston   off;/\" *.inp\\n')\n",
    "    file.write('sed -i \"s/^langevinPistonTarget/#langevinPistonTarget/\" *.inp\\n')\n",
    "    file.write('sed -i \"s/^langevinPistonPeriod/#langevinPistonPeriod/\" *.inp\\n')\n",
    "    file.write('sed -i \"s/^langevinPistonDecay/#langevinPistonDecay/\" *.inp\\n')\n",
    "    file.write('sed -i \"s/^langevinPistonTemp/#langevinPistonTemp/\" *.inp\\n')\n",
    "    file.write('sed -i \"s/^run 25000/run 500000/\" step6.2_equilibration.inp\\n')\n",
    "    file.write('sed -i \"s/^run 25000/run 500000/\" step6.3_equilibration.inp\\n')\n",
    "    file.write('sed -i \"s/^run 100000/run 500000/\" step6.4_equilibration.inp\\n')\n",
    "    file.write('sed -i \"s/^run 100000/run 500000/\" step6.5_equilibration.inp\\n')\n",
    "    file.write('sed -i \"s/^run 100000/run 500000/\" step6.6_equilibration.inp\\n')\n",
    "    file.write('sed -i \"s/^run.*/run 5000000;/\" step7.1_production.inp\\n')\n",
    "    file.write('namd2 step6.1_equilibration.inp > step6.1_equilibration.log\\n')\n",
    "    file.write('namd2 step6.2_equilibration.inp > step6.2_equilibration.log\\n')\n",
    "    file.write('namd2 step6.3_equilibration.inp > step6.3_equilibration.log\\n')\n",
    "    file.write('namd2 step6.4_equilibration.inp > step6.4_equilibration.log\\n')\n",
    "    file.write('namd2 step6.5_equilibration.inp > step6.5_equilibration.log\\n')\n",
    "    file.write('namd2 step6.6_equilibration.inp > step6.6_equilibration.log\\n')\n",
    "    file.write('namd2 step7.1_production.inp > step7.1_production.log\\n')"
   ]
  },
  {
   "cell_type": "code",
   "execution_count": null,
   "metadata": {
    "collapsed": true
   },
   "outputs": [],
   "source": []
  },
  {
   "cell_type": "code",
   "execution_count": 8,
   "metadata": {
    "collapsed": true
   },
   "outputs": [],
   "source": [
    "u = mda.Universe(fileDirectory+'charmm-gui/step5_assembly.xplor_ext.psf', fileDirectory+'charmm-gui/step5_assembly.namd.pdb')"
   ]
  },
  {
   "cell_type": "markdown",
   "metadata": {},
   "source": [
    "### Calculating Numbers and Salt Concentration"
   ]
  },
  {
   "cell_type": "code",
   "execution_count": 9,
   "metadata": {},
   "outputs": [
    {
     "name": "stdout",
     "output_type": "stream",
     "text": [
      "1.26e-25\n",
      "0.0\n"
     ]
    }
   ],
   "source": [
    "n_lipids = u.select_atoms('not resname TIP3 and not name SOD and not name CLA').n_residues\n",
    "n_atoms = u.select_atoms('all').n_atoms\n",
    "n_waters = u.select_atoms('resname TIP3').n_residues\n",
    "n_sodium = u.select_atoms('name SOD').n_atoms\n",
    "n_chloride = u.select_atoms('name CLA').n_atoms\n",
    "n_ions = 0\n",
    "if n_sodium <= n_chloride: \n",
    "    n_ions = n_chloride - n_sodium\n",
    "else: n_ions = n_sodium - n_chloride\n",
    "moles_ions = float(n_ions)/(6.022*(10**23))\n",
    "a3_water = (float(waterHeight)*float(xYLength)*float(xYLength))\n",
    "L_water = a3_water/((10**(10))**3)\n",
    "print(L_water)\n",
    "molarity_salt = moles_ions/L_water\n",
    "print(molarity_salt)"
   ]
  },
  {
   "cell_type": "markdown",
   "metadata": {},
   "source": [
    "## \"true\" pH calculator"
   ]
  },
  {
   "cell_type": "code",
   "execution_count": 10,
   "metadata": {},
   "outputs": [
    {
     "ename": "IndexError",
     "evalue": "list index out of range",
     "output_type": "error",
     "traceback": [
      "\u001b[0;31m---------------------------------------------------------------------------\u001b[0m",
      "\u001b[0;31mIndexError\u001b[0m                                Traceback (most recent call last)",
      "\u001b[0;32m<ipython-input-10-207b48632ef4>\u001b[0m in \u001b[0;36m<module>\u001b[0;34m()\u001b[0m\n\u001b[1;32m     20\u001b[0m \u001b[0;32mfor\u001b[0m \u001b[0mk\u001b[0m \u001b[0;32min\u001b[0m \u001b[0macidDict\u001b[0m\u001b[0;34m:\u001b[0m\u001b[0;34m\u001b[0m\u001b[0m\n\u001b[1;32m     21\u001b[0m     \u001b[0;32mfor\u001b[0m \u001b[0mi\u001b[0m \u001b[0;32min\u001b[0m \u001b[0mpH_array\u001b[0m\u001b[0;34m:\u001b[0m\u001b[0;34m\u001b[0m\u001b[0m\n\u001b[0;32m---> 22\u001b[0;31m         \u001b[0;32mif\u001b[0m \u001b[0mk\u001b[0m \u001b[0;34m==\u001b[0m \u001b[0mpH_array\u001b[0m\u001b[0;34m[\u001b[0m\u001b[0;36m0\u001b[0m\u001b[0;34m]\u001b[0m \u001b[0;32mor\u001b[0m \u001b[0mk\u001b[0m \u001b[0;34m==\u001b[0m \u001b[0mpH_array\u001b[0m\u001b[0;34m[\u001b[0m\u001b[0;36m2\u001b[0m\u001b[0;34m]\u001b[0m\u001b[0;34m:\u001b[0m\u001b[0;34m\u001b[0m\u001b[0m\n\u001b[0m\u001b[1;32m     23\u001b[0m             \u001b[0;32mbreak\u001b[0m\u001b[0;34m\u001b[0m\u001b[0m\n\u001b[1;32m     24\u001b[0m     \u001b[0;32mif\u001b[0m \u001b[0mtype\u001b[0m\u001b[0;34m(\u001b[0m\u001b[0mpKaDict\u001b[0m\u001b[0;34m[\u001b[0m\u001b[0mk\u001b[0m\u001b[0;34m]\u001b[0m\u001b[0;34m)\u001b[0m \u001b[0;34m==\u001b[0m \u001b[0mfloat\u001b[0m\u001b[0;34m:\u001b[0m\u001b[0;34m\u001b[0m\u001b[0m\n",
      "\u001b[0;31mIndexError\u001b[0m: list index out of range"
     ]
    }
   ],
   "source": [
    "#information from Heather Allen's group\n",
    "##C8 pKa 6.4\n",
    "##C9 5.8\n",
    "##C10 7.2\n",
    "##C12 lauric 7.5\n",
    "##C14 myristic 8.2\n",
    "##C16 palmitic 8.7\n",
    "##C18 stearic 10.2\n",
    "pKaDict = {'myr':8.2, 'myrp':'myr', 'ste': 10.2, 'step':'ste', 'lau':7.5, 'laup': 'lau', 'pal': 8.7, 'palp':'pal' }\n",
    "#print(pKaDict)\n",
    "##using henderson hasselbach equation\n",
    "##pH = pKa + log(A-/HA)\n",
    "##loop through the fattyAcid array and build a hash\n",
    "acidDict = {}\n",
    "pH_array = []\n",
    "#setting up an object to keep track of the shit\n",
    "for fattyAcid in fattyAcids: \n",
    "    acidDict[fattyAcid[0]] = fattyAcid[1]\n",
    "#print(acidDict)\n",
    "for k in acidDict:\n",
    "    for i in pH_array:\n",
    "        if k == pH_array[0] or k == pH_array[2]:\n",
    "            break\n",
    "    if type(pKaDict[k]) == float:\n",
    "        pKa = pKaDict[k]\n",
    "        acid = k\n",
    "        base = k+'p'\n",
    "    else:\n",
    "        acid = k\n",
    "        base = pKaDict[k]\n",
    "        pKa = pKaDict[base]\n",
    "    #if len(acidDict) == 1:\n",
    "     #   num_base = 1;\n",
    "     #   num_acid = u.select_atoms('resname '+acid.upper()).n_residues-1\n",
    "     #   pH = pKa + np.log(float(num_base)/float(num_acid))\n",
    "     #   pH_array.append([acid, num_acid, base, num_base, pH])\n",
    "    #else: \n",
    "    num_acid = u.select_atoms('resname '+acid.upper()).n_residues\n",
    "    num_base = u.select_atoms('resname '+base.upper()).n_residues\n",
    "    if num_base == 0:\n",
    "        num_base = 1\n",
    "        num_acid = num_acid-1\n",
    "    pH = pKa + np.log(float(num_base)/float(num_acid))\n",
    "    pH_array.append([acid, num_acid, base, num_base, pH])\n",
    "print(pH_array)\n",
    "#print(acid, base, pKa)\n",
    "#boobs = u.select_atoms('resname LAUP').n_residues\n",
    "#print(acid)\n",
    "#print(u.select_atoms(acid.upper()).n_residues)"
   ]
  },
  {
   "cell_type": "markdown",
   "metadata": {},
   "source": [
    "### Adding Basic Data to README file"
   ]
  },
  {
   "cell_type": "code",
   "execution_count": null,
   "metadata": {
    "collapsed": true
   },
   "outputs": [],
   "source": [
    "README = fileDirectory+'README.html'\n",
    "with open(README, 'a') as file:\n",
    "    file.write('<style>table, th, td {border: 1px solid black; border-collapse: collapse; padding: 10px;}</style>'+os.linesep)\n",
    "    file.write('<h1>'+fileDirectory+'</h1>'+os.linesep)\n",
    "    file.write('<p><h2>System Stats</h2>')\n",
    "    file.write('<p><b>Size of System: </b>'+str(n_atoms)+' atoms'+os.linesep)\n",
    "    file.write('<p><b>Temperature: </b>'+temperature+' K')\n",
    "    file.write('<p><b>Box Information</b>'+os.linesep)\n",
    "    file.write('<p><table><tr><td>Z height (&#8491;)</td><td>'+waterHeight+'</td></tr><tr><td>X, Y length (&#8491;)</td><td>'+xYLength+'</td></tr></table>'+os.linesep)\n",
    "    file.write('<p><b>Salt Concentration: </b>'+str(molarity_salt)+\" M\"+os.linesep)\n",
    "    file.write('<p><table><tr><th>Name</th><th>Number</th></tr><tr><td>Water</td><td>'+str(n_waters)+'</td></tr><tr><td>Sodium</td><td>'+str(n_sodium)+'</td></tr><tr><td>Chloride</td><td>'+str(n_chloride)+'</td></tr></table>'+os.linesep)\n",
    "    file.write('<p><b>Lipid Information</b>'+os.linesep)\n",
    "    file.write('<p><table><tr><th>Lipid Name</th><th>Upper Leaflet Ratio</th><th>Lower Leaflet Ratio</th><th>Number</th><th>Surface Area per Lipid (&#8491;<sup>2</sup>)</th></tr>'+os.linesep)\n",
    "    for fattyAcid in fattyAcids:\n",
    "        number = u.select_atoms('resname '+fattyAcid[0].upper()).n_residues\n",
    "        file.write('<tr><td>'+fattyAcid[0]+'</td><td>'+str(fattyAcid[1])+'</td><td>'+str(fattyAcid[2])+'</td><td>'+str(number)+'</td><td>'+str(fattyAcid[3])+'</td></tr>'+os.linesep)\n",
    "    file.write('</table>'+os.linesep)\n",
    "    file.write('<p><b>Calculated pH</b>'+os.linesep)\n",
    "    file.write('<p><table>')\n",
    "    for acid in pH_array:\n",
    "        file.write('<tr><td>'+str(acid[1])+' '+acid[0]+' + '+str(acid[3])+' '+acid[2]+'</td><td>'+str(acid[4])+'</td></tr>'+os.linesep)\n",
    "    file.write('</table>')"
   ]
  },
  {
   "cell_type": "markdown",
   "metadata": {
    "collapsed": true
   },
   "source": [
    "### Add Minimization and Equilibration Methods to README"
   ]
  },
  {
   "cell_type": "code",
   "execution_count": 11,
   "metadata": {},
   "outputs": [
    {
     "ename": "NameError",
     "evalue": "name 'README' is not defined",
     "output_type": "error",
     "traceback": [
      "\u001b[0;31m---------------------------------------------------------------------------\u001b[0m",
      "\u001b[0;31mNameError\u001b[0m                                 Traceback (most recent call last)",
      "\u001b[0;32m<ipython-input-11-0a41ba588b72>\u001b[0m in \u001b[0;36m<module>\u001b[0;34m()\u001b[0m\n\u001b[0;32m----> 1\u001b[0;31m \u001b[0;32mwith\u001b[0m \u001b[0mopen\u001b[0m\u001b[0;34m(\u001b[0m\u001b[0mREADME\u001b[0m\u001b[0;34m,\u001b[0m \u001b[0;34m'a'\u001b[0m\u001b[0;34m)\u001b[0m \u001b[0;32mas\u001b[0m \u001b[0mfile\u001b[0m\u001b[0;34m:\u001b[0m\u001b[0;34m\u001b[0m\u001b[0m\n\u001b[0m\u001b[1;32m      2\u001b[0m     \u001b[0mfile\u001b[0m\u001b[0;34m.\u001b[0m\u001b[0mwrite\u001b[0m\u001b[0;34m(\u001b[0m\u001b[0;34m'<p><h2>Minimization</h2><p>Minimization was completed with the built-in CHARMM-GUI minimization method.'\u001b[0m\u001b[0;34m)\u001b[0m\u001b[0;34m\u001b[0m\u001b[0m\n\u001b[1;32m      3\u001b[0m     \u001b[0mfile\u001b[0m\u001b[0;34m.\u001b[0m\u001b[0mwrite\u001b[0m\u001b[0;34m(\u001b[0m\u001b[0;34m'<p><h2>Equilibrations</h2>'\u001b[0m\u001b[0;34m+\u001b[0m\u001b[0mos\u001b[0m\u001b[0;34m.\u001b[0m\u001b[0mlinesep\u001b[0m\u001b[0;34m)\u001b[0m\u001b[0;34m\u001b[0m\u001b[0m\n\u001b[1;32m      4\u001b[0m     \u001b[0mfile\u001b[0m\u001b[0;34m.\u001b[0m\u001b[0mwrite\u001b[0m\u001b[0;34m(\u001b[0m\u001b[0;34m'<p><table><tr><th>Step #</th><th>Particle Mesh Ewald (&#8491;)</th><th>Timestep (fs)</th><th>Run time (steps)</th><th>Simulation Length (fs)</th><th>Planar Restraints(kcal/mol)</th><th>Dihedral Restraints (kcal/mol)</th></tr>'\u001b[0m\u001b[0;34m)\u001b[0m\u001b[0;34m\u001b[0m\u001b[0m\n\u001b[1;32m      5\u001b[0m     \u001b[0mfile\u001b[0m\u001b[0;34m.\u001b[0m\u001b[0mclose\u001b[0m\u001b[0;34m(\u001b[0m\u001b[0;34m)\u001b[0m\u001b[0;34m\u001b[0m\u001b[0m\n",
      "\u001b[0;31mNameError\u001b[0m: name 'README' is not defined"
     ]
    }
   ],
   "source": [
    "with open(README, 'a') as file:\n",
    "    file.write('<p><h2>Minimization</h2><p>Minimization was completed with the built-in CHARMM-GUI minimization method.')\n",
    "    file.write('<p><h2>Equilibrations</h2>'+os.linesep)\n",
    "    file.write('<p><table><tr><th>Step #</th><th>Particle Mesh Ewald (&#8491;)</th><th>Timestep (fs)</th><th>Run time (steps)</th><th>Simulation Length (fs)</th><th>Planar Restraints(kcal/mol)</th><th>Dihedral Restraints (kcal/mol)</th></tr>')\n",
    "    file.close()\n",
    "for i in range(1, 7):\n",
    "    with open(fileDirectory+'charmm-gui/namd/step6.'+str(i)+'_equilibration.inp') as file:\n",
    "        for line in file:\n",
    "                if line.startswith('cutoff'):\n",
    "                    witcutoff = line.split(\" \")[14][:-1]\n",
    "                if line.startswith('timestep'):\n",
    "                    timestep = line.split(\" \")[12][:-1]\n",
    "                if line.startswith('run'):\n",
    "                    run = line.split(\" \")[1]\n",
    "                if line.startswith('colvars on'):\n",
    "                    planar = next(file).split(\" \")[5][:-3]\n",
    "                if line.startswith('extraBonds yes'):\n",
    "                    dihedral = next(file).split(\"/\")[2]\n",
    "    file.close()\n",
    "    with open(README, 'a') as file:\n",
    "        file.write('<tr><td><u>6.'+str(i)+'</u></td>')\n",
    "        file.write('<td>'+cutoff+' &#8491;</td>'+os.linesep)\n",
    "        file.write('<td>'+timestep+'</td>'+os.linesep)\n",
    "        file.write('<td>'+run+'</td>'+os.linesep)\n",
    "        file.write('<td>'+ str(float(run)*float(timestep))+'</td>'+os.linesep)\n",
    "        file.write('<td>'+planar+'</td>')\n",
    "        file.write('<td>'+dihedral+'</td></tr>')\n",
    "        file.close()\n",
    "with open(README, 'a') as file:\n",
    "    file.write('</table>')\n",
    "    file.close()"
   ]
  },
  {
   "cell_type": "code",
   "execution_count": 12,
   "metadata": {
    "collapsed": true
   },
   "outputs": [],
   "source": [
    "runtime = datetime.now() - starttime\n",
    "subject = \"CharmmGUI Completed!\"\n",
    "msg = \"Mr. poopy butthole says your file \"+fileDirectory+\" has completed in\"+str(runtime)+\"!\"\n",
    "noticeEMail(starttime, email, msg, subject)"
   ]
  },
  {
   "cell_type": "code",
   "execution_count": null,
   "metadata": {
    "collapsed": true
   },
   "outputs": [],
   "source": []
  }
 ],
 "metadata": {
  "kernelspec": {
   "display_name": "Python 2",
   "language": "python",
   "name": "python2"
  },
  "language_info": {
   "codemirror_mode": {
    "name": "ipython",
    "version": 2
   },
   "file_extension": ".py",
   "mimetype": "text/x-python",
   "name": "python",
   "nbconvert_exporter": "python",
   "pygments_lexer": "ipython2",
   "version": "2.7.14"
  }
 },
 "nbformat": 4,
 "nbformat_minor": 2
}
